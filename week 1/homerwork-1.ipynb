{
 "cells": [
  {
   "cell_type": "code",
   "execution_count": 6,
   "id": "388e6b73-339d-4396-ab1b-32952ebfe53d",
   "metadata": {},
   "outputs": [],
   "source": [
    "from elasticsearch import Elasticsearch\n",
    "import requests"
   ]
  },
  {
   "cell_type": "code",
   "execution_count": 7,
   "id": "d9e94ad7-cfe6-4b16-a24a-b01703c3054f",
   "metadata": {},
   "outputs": [],
   "source": [
    "es_client = Elasticsearch('http://localhost:9200')"
   ]
  },
  {
   "cell_type": "code",
   "execution_count": 45,
   "id": "dca8b13a-d2b3-48fc-bd62-d36c3be46005",
   "metadata": {},
   "outputs": [
    {
     "name": "stdout",
     "output_type": "stream",
     "text": [
      "{\n",
      "  \"name\" : \"563bd40f68f0\",\n",
      "  \"cluster_name\" : \"docker-cluster\",\n",
      "  \"cluster_uuid\" : \"64p2SczsTm-HUYZlBWSxeg\",\n",
      "  \"version\" : {\n",
      "    \"number\" : \"8.4.3\",\n",
      "    \"build_flavor\" : \"default\",\n",
      "    \"build_type\" : \"docker\",\n",
      "    \"build_hash\" : \"42f05b9372a9a4a470db3b52817899b99a76ee73\",\n",
      "    \"build_date\" : \"2022-10-04T07:17:24.662462378Z\",\n",
      "    \"build_snapshot\" : false,\n",
      "    \"lucene_version\" : \"9.3.0\",\n",
      "    \"minimum_wire_compatibility_version\" : \"7.17.0\",\n",
      "    \"minimum_index_compatibility_version\" : \"7.0.0\"\n",
      "  },\n",
      "  \"tagline\" : \"You Know, for Search\"\n",
      "}\n"
     ]
    }
   ],
   "source": [
    "!curl 'http://localhost:9200'\n"
   ]
  },
  {
   "cell_type": "markdown",
   "id": "7a254666-fe1b-4e8c-a8fa-534951319391",
   "metadata": {},
   "source": [
    "the version.build_hash are :42f05b9372a9a4a470db3b52817899b99a76ee73"
   ]
  },
  {
   "cell_type": "code",
   "execution_count": 4,
   "id": "287c14ad-b978-4970-89d1-4b7fc3f1fac6",
   "metadata": {},
   "outputs": [],
   "source": [
    "docs_url = 'https://github.com/DataTalksClub/llm-zoomcamp/blob/main/01-intro/documents.json?raw=1'\n",
    "docs_response = requests.get(docs_url)\n",
    "documents_raw = docs_response.json()\n",
    "\n",
    "documents = []\n",
    "\n",
    "for course in documents_raw:\n",
    "    course_name = course['course']\n",
    "\n",
    "    for doc in course['documents']:\n",
    "        doc['course'] = course_name\n",
    "        documents.append(doc)"
   ]
  },
  {
   "cell_type": "code",
   "execution_count": 8,
   "id": "75e591e1-0d9f-477a-b9f4-5448f2cc9a97",
   "metadata": {},
   "outputs": [
    {
     "data": {
      "text/plain": [
       "ObjectApiResponse({'acknowledged': True, 'shards_acknowledged': True, 'index': 'course-homework-1'})"
      ]
     },
     "execution_count": 8,
     "metadata": {},
     "output_type": "execute_result"
    }
   ],
   "source": [
    "index_setting = {\n",
    "    \"settings\": {\n",
    "        \"number_of_shards\": 1,\n",
    "        \"number_of_replicas\": 0\n",
    "    },\n",
    "    \"mappings\": {\n",
    "        \"properties\": {\n",
    "            \"text\": {\"type\": \"text\"},\n",
    "            \"section\": {\"type\": \"text\"},\n",
    "            \"question\": {\"type\": \"text\"},\n",
    "            \"course\": {\"type\": \"keyword\"} \n",
    "        }\n",
    "    }\n",
    "}\n",
    "index_name = 'course-homework-1'\n",
    "es_client.indices.create(index=index_name,body=index_setting)"
   ]
  },
  {
   "cell_type": "code",
   "execution_count": 9,
   "id": "9e7990cb-b729-46bb-9e91-2263987890b9",
   "metadata": {},
   "outputs": [
    {
     "name": "stderr",
     "output_type": "stream",
     "text": [
      "/usr/local/python/3.12.1/lib/python3.12/site-packages/tqdm/auto.py:21: TqdmWarning: IProgress not found. Please update jupyter and ipywidgets. See https://ipywidgets.readthedocs.io/en/stable/user_install.html\n",
      "  from .autonotebook import tqdm as notebook_tqdm\n",
      "100%|██████████████████████████| 948/948 [00:29<00:00, 31.88it/s]\n"
     ]
    }
   ],
   "source": [
    "from tqdm.auto import tqdm\n",
    "for doc in tqdm(documents):\n",
    "    es_client.index(index=index_name, document=doc)"
   ]
  },
  {
   "cell_type": "markdown",
   "id": "1939e571-5507-42b0-afd6-db72a2e06f69",
   "metadata": {},
   "source": [
    "Q2 Which function do you use for adding your data to elastic?\n",
    "in order to adding data to my index on elastic we can use index method"
   ]
  },
  {
   "cell_type": "code",
   "execution_count": 5,
   "id": "78f6dadb-1d56-48db-8609-afe2bff1b60e",
   "metadata": {},
   "outputs": [],
   "source": [
    "def elastic_search(query):\n",
    "    search_query = {\n",
    "        \"size\":5,\n",
    "        \"query\":{\n",
    "            \"bool\":{\n",
    "                \"must\":{\n",
    "                    \"multi_match\":{\n",
    "                        \"query\":query,\n",
    "                        \"fields\": [\"question^4\",\"text\"],\n",
    "                        \"type\": \"best_fields\"\n",
    "                    }\n",
    "                }\n",
    "            }\n",
    "        }\n",
    "        \n",
    "    }\n",
    "    response = es_client.search(index=index_name, body=search_query)\n",
    "    result_docs = []\n",
    "    for doc in response['hits']['hits']:\n",
    "        result_docs.append(doc['_score'])\n",
    "    return result_docs"
   ]
  },
  {
   "cell_type": "code",
   "execution_count": 11,
   "id": "26698ff7-3eed-40b0-8084-61cff22e3b51",
   "metadata": {},
   "outputs": [
    {
     "data": {
      "text/plain": [
       "[84.050095, 75.54128, 72.08518, 51.04628, 49.938507]"
      ]
     },
     "execution_count": 11,
     "metadata": {},
     "output_type": "execute_result"
    }
   ],
   "source": [
    "query = \"How do I execute a command in a running docker container?\"\n",
    "elastic_search(query)"
   ]
  },
  {
   "cell_type": "markdown",
   "id": "699625ad-35c3-4741-8a59-ee40489eb3af",
   "metadata": {},
   "source": [
    "Q3 What's the score for the top ranking result?\n",
    "the top ranking result score are 84.05"
   ]
  },
  {
   "cell_type": "code",
   "execution_count": 8,
   "id": "973aafa5-abea-44de-881b-3d2d678d780b",
   "metadata": {},
   "outputs": [],
   "source": [
    "def elastic_search_with_filter(query):\n",
    "    search_query = {\n",
    "        \"size\":3,\n",
    "        \"query\":{\n",
    "            \"bool\":{\n",
    "                \"must\":{\n",
    "                    \"multi_match\":{\n",
    "                        \"query\":query,\n",
    "                        \"fields\": [\"question^4\",\"text\"],\n",
    "                        \"type\": \"best_fields\"\n",
    "                    }\n",
    "                },\n",
    "                \"filter\":{\n",
    "                    \"term\":{\n",
    "                        \"course\": \"machine-learning-zoomcamp\"\n",
    "                    }\n",
    "                }\n",
    "            }\n",
    "        }\n",
    "        \n",
    "    }\n",
    "    response = es_client.search(index=index_name, body=search_query)\n",
    "    result_docs = []\n",
    "    for doc in response['hits']['hits']:\n",
    "        result_docs.append(doc['_source'])\n",
    "    return result_docs"
   ]
  },
  {
   "cell_type": "code",
   "execution_count": 10,
   "id": "b45c9fe9-f0a8-4dd1-9460-6e0ead78fcba",
   "metadata": {},
   "outputs": [],
   "source": [
    "index_name='course-homework-1'\n",
    "query = \"How do I execute a command in a running docker container?\"\n",
    "search_results = elastic_search_with_filter(query)"
   ]
  },
  {
   "cell_type": "markdown",
   "id": "22dcb959-d970-4b07-9b51-aef2f964ea18",
   "metadata": {},
   "source": [
    "Q4 \n",
    "- How do i debug a docker container?\n",
    "docker ps to see status of the container and\n",
    "docker logs [containers] to see the logs of the containers\n",
    "- How do i copy files from a different folder into docker container's working dirrectory?\n",
    "im quite unsure about this question but if its from local file system to docker container then we can use\n",
    "docker cp <src-path> <container>:<dest-path>\n",
    "or copy file from container to local file system\n",
    "docker cp <container>:<src-path> <local-dest-path>\n",
    "i've never use these command to copy from one image to another but if its possible then it should be\n",
    "docker cp <container-src>:<src-path> <container-dest>:<dest-path>\n",
    "- How do Lambda container images work?\n",
    "A Lambda container image is a package that includes the Lambda Runtime API, necessary dependencies, an operating system, and function handlers required to run Docker containers in AWS Lambda. These packages allow development teams to deploy and execute arbitrary code and libraries into the Lambda runtime.When creating a Lambda function, AWS supports the use of a container image as the deployment package. With this functionality, you can use the Lambda API or the Lambda console to create a function that is defined by the container image. Once the image is deployed, the underlying code can be further updated and tested to configure various Lambda functions.\n",
    "- How can i annotate a graph?\n",
    "adding labels. create tittles that work as headlines, adding detail"
   ]
  },
  {
   "cell_type": "code",
   "execution_count": 11,
   "id": "01b3f47c-ca75-4f80-a336-c5f74e00a20b",
   "metadata": {},
   "outputs": [],
   "source": [
    "context_template = \"\"\"\n",
    "Q: {question}\n",
    "A: {text}\n",
    "\"\"\".strip()"
   ]
  },
  {
   "cell_type": "code",
   "execution_count": 12,
   "id": "95e1c359-2d76-4939-be45-0433d2970b3c",
   "metadata": {},
   "outputs": [],
   "source": [
    "context = \"\\n\\n\".join([context_template.format(question=item['question'], text=item['text']) for item in search_results]).strip()"
   ]
  },
  {
   "cell_type": "code",
   "execution_count": 13,
   "id": "7f931a2a-3efa-4f1d-9c60-dd86410178cd",
   "metadata": {},
   "outputs": [],
   "source": [
    "prompt_template = \"\"\"\n",
    "You're a course teaching assistant. Answer the QUESTION based on the CONTEXT from the FAQ database.\n",
    "Use only the facts from the CONTEXT when answering the QUESTION.\n",
    "\n",
    "QUESTION: {question}\n",
    "\n",
    "CONTEXT:\n",
    "{context}\n",
    "\"\"\".strip()"
   ]
  },
  {
   "cell_type": "code",
   "execution_count": 14,
   "id": "48a4df5f-8d47-4207-a949-fcc1bb3c3fa4",
   "metadata": {},
   "outputs": [],
   "source": [
    "prompt = prompt_template.format(question = query, context = context)"
   ]
  },
  {
   "cell_type": "code",
   "execution_count": 15,
   "id": "651e411b-4511-4672-83f7-00d4949e0ec6",
   "metadata": {},
   "outputs": [
    {
     "data": {
      "text/plain": [
       "1462"
      ]
     },
     "execution_count": 15,
     "metadata": {},
     "output_type": "execute_result"
    }
   ],
   "source": [
    "len(prompt)"
   ]
  },
  {
   "cell_type": "markdown",
   "id": "1a282290-9780-4ae6-b4c2-f737d4189b73",
   "metadata": {},
   "source": [
    "Q5 What's the length of the resulting prompt? (use the len function)?\n",
    "the length of the prompt are 1462"
   ]
  },
  {
   "cell_type": "code",
   "execution_count": 4,
   "id": "2a02138d-05ba-4704-983a-0fb4fce17095",
   "metadata": {},
   "outputs": [
    {
     "name": "stdout",
     "output_type": "stream",
     "text": [
      "Requirement already satisfied: tiktoken in /usr/local/python/3.12.1/lib/python3.12/site-packages (0.7.0)\n",
      "Requirement already satisfied: regex>=2022.1.18 in /usr/local/python/3.12.1/lib/python3.12/site-packages (from tiktoken) (2024.9.11)\n",
      "Requirement already satisfied: requests>=2.26.0 in /home/codespace/.local/lib/python3.12/site-packages (from tiktoken) (2.32.3)\n",
      "Requirement already satisfied: charset-normalizer<4,>=2 in /home/codespace/.local/lib/python3.12/site-packages (from requests>=2.26.0->tiktoken) (3.3.2)\n",
      "Requirement already satisfied: idna<4,>=2.5 in /home/codespace/.local/lib/python3.12/site-packages (from requests>=2.26.0->tiktoken) (3.10)\n",
      "Requirement already satisfied: urllib3<3,>=1.21.1 in /home/codespace/.local/lib/python3.12/site-packages (from requests>=2.26.0->tiktoken) (2.2.3)\n",
      "Requirement already satisfied: certifi>=2017.4.17 in /home/codespace/.local/lib/python3.12/site-packages (from requests>=2.26.0->tiktoken) (2024.8.30)\n"
     ]
    }
   ],
   "source": [
    "!pip install tiktoken"
   ]
  },
  {
   "cell_type": "code",
   "execution_count": 16,
   "id": "6293ccc5-89b7-4c24-a8f1-2bf1ebe9a5e6",
   "metadata": {},
   "outputs": [],
   "source": [
    "import tiktoken\n",
    "encoding = tiktoken.encoding_for_model(\"gpt-4o\")"
   ]
  },
  {
   "cell_type": "code",
   "execution_count": 19,
   "id": "4f546a58-8cdc-4448-8830-930243fa06bc",
   "metadata": {},
   "outputs": [
    {
     "data": {
      "text/plain": [
       "322"
      ]
     },
     "execution_count": 19,
     "metadata": {},
     "output_type": "execute_result"
    }
   ],
   "source": [
    "len(encoding.encode(prompt))"
   ]
  },
  {
   "cell_type": "markdown",
   "id": "d267ca0f-321f-4157-b225-2228cfd730a8",
   "metadata": {},
   "source": [
    "Use the encode function. How many tokens does our prompt have?\n",
    "322"
   ]
  },
  {
   "cell_type": "code",
   "execution_count": 18,
   "id": "9a6422f4-55ba-4d86-8d0c-5de43654e575",
   "metadata": {},
   "outputs": [
    {
     "data": {
      "text/plain": [
       "b\"You're\""
      ]
     },
     "execution_count": 18,
     "metadata": {},
     "output_type": "execute_result"
    }
   ],
   "source": [
    "encoding.decode_single_token_bytes(63842)"
   ]
  },
  {
   "cell_type": "code",
   "execution_count": 20,
   "id": "4fd35cd3-9ae6-42cc-80e6-c91d49314a1a",
   "metadata": {},
   "outputs": [],
   "source": [
    "from openai import OpenAI"
   ]
  },
  {
   "cell_type": "code",
   "execution_count": 22,
   "id": "b4d31b4e-ffa8-4233-8720-e028dff66d1a",
   "metadata": {},
   "outputs": [],
   "source": [
    "client = OpenAI()"
   ]
  },
  {
   "cell_type": "code",
   "execution_count": 27,
   "id": "45028ff1-9a89-4661-99f2-452074645103",
   "metadata": {},
   "outputs": [],
   "source": [
    "def llm(prompt):\n",
    "    response = client.chat.completions.create(\n",
    "        model=\"gpt-4o\",\n",
    "        messages=[{\"role\":\"user\", \"content\":prompt}]\n",
    "    )\n",
    "    return response.choices[0].message.content"
   ]
  },
  {
   "cell_type": "code",
   "execution_count": 28,
   "id": "a3515dc4-95e1-43b3-91eb-d96584bca4a1",
   "metadata": {},
   "outputs": [
    {
     "data": {
      "text/plain": [
       "'To execute a command in a running Docker container, follow these steps:\\n\\n1. Identify the running container by listing all containers and finding the appropriate `container-id`.\\n   ```\\n   docker ps\\n   ```\\n\\n2. Once you have the `container-id`, use the `docker exec` command to run the desired command inside the container. If you want to start an interactive bash session, you can use the following command:\\n   ```\\n   docker exec -it <container-id> bash\\n   ```\\n\\nThis allows you to execute commands within the specified running container.'"
      ]
     },
     "execution_count": 28,
     "metadata": {},
     "output_type": "execute_result"
    }
   ],
   "source": [
    "llm(prompt)"
   ]
  },
  {
   "cell_type": "code",
   "execution_count": 35,
   "id": "cca3f646-a8aa-40b4-87a1-f093066b7800",
   "metadata": {},
   "outputs": [],
   "source": [
    "def calculate_cost(token_send, token_recieve, total_request):\n",
    "    total = total_request * (((token_send/1000) * 0.005) + ((token_recieve/1000) *0.015))\n",
    "    return f\"Your total cost with {token_send} input token and {token_recieve} output token for {total_request} requests are : {total}$\""
   ]
  },
  {
   "cell_type": "code",
   "execution_count": 36,
   "id": "f91eefbb-2932-4c13-9293-ac471b134ab1",
   "metadata": {},
   "outputs": [
    {
     "data": {
      "text/plain": [
       "'Your total cost with 150 input token and 250 output token for 1000 requests are : 4.5$'"
      ]
     },
     "execution_count": 36,
     "metadata": {},
     "output_type": "execute_result"
    }
   ],
   "source": [
    "calculate_cost(150, 250, 1000)"
   ]
  },
  {
   "cell_type": "code",
   "execution_count": null,
   "id": "18685379-139c-4b59-9fbe-65fc6a003484",
   "metadata": {},
   "outputs": [],
   "source": []
  }
 ],
 "metadata": {
  "kernelspec": {
   "display_name": "Python 3 (ipykernel)",
   "language": "python",
   "name": "python3"
  },
  "language_info": {
   "codemirror_mode": {
    "name": "ipython",
    "version": 3
   },
   "file_extension": ".py",
   "mimetype": "text/x-python",
   "name": "python",
   "nbconvert_exporter": "python",
   "pygments_lexer": "ipython3",
   "version": "3.12.1"
  }
 },
 "nbformat": 4,
 "nbformat_minor": 5
}

{
 "cells": [
  {
   "cell_type": "code",
   "execution_count": 2,
   "id": "34211dc7-3e10-49e9-853a-c38742ab46d5",
   "metadata": {},
   "outputs": [],
   "source": [
    "import openai"
   ]
  },
  {
   "cell_type": "code",
   "execution_count": 4,
   "id": "ec6e0785-348d-4afc-820b-24e30af7d8dc",
   "metadata": {},
   "outputs": [],
   "source": [
    "from openai import OpenAI"
   ]
  },
  {
   "cell_type": "code",
   "execution_count": 5,
   "id": "297aaaa8-2b01-44fc-8928-29dead7cf06a",
   "metadata": {},
   "outputs": [],
   "source": [
    "client = OpenAI()"
   ]
  },
  {
   "cell_type": "code",
   "execution_count": 13,
   "id": "98dca946-c2d1-42f7-8224-f58a6ab8dd76",
   "metadata": {},
   "outputs": [],
   "source": [
    "response = client.chat.completions.create(\n",
    "    model=\"gpt-4o\",\n",
    "    messages=[{\"role\": \"user\", \"content\": \"is it too late to join the coures?\"}]\n",
    "    \n",
    ")"
   ]
  },
  {
   "cell_type": "code",
   "execution_count": 21,
   "id": "d2f47f77-09e6-4a42-b0f4-1fe4cf8c79ae",
   "metadata": {},
   "outputs": [
    {
     "data": {
      "text/plain": [
       "\"It's difficult to say definitively without more context, as it depends on the specific course you're interested in. Many courses have different enrollment deadlines, schedules, and policies regarding late admissions. Here are a few steps you can take to find out if it's still possible to join:\\n\\n1. **Check Official Course Website:** Look at the official course or program website for enrollment deadlines and details about late registration policies.\\n   \\n2. **Contact the Course Provider:** Reach out to the institution or the instructor offering the course. Sometimes exceptions can be made.\\n\\n3. **Review the Syllabus:** Some courses have flexible start dates or are self-paced, allowing you to join at any time.\\n\\n4. **Look for Prerequisites:** Ensure that you meet all the prerequisites or requirements for joining the course late.\\n\\n5. **Consider Catching Up:** Evaluate how much material you would need to catch up on and whether you're prepared to do that.\\n\\nIf you provide more specific information about the course you're interested in, I might be able to offer more tailored advice.\""
      ]
     },
     "execution_count": 21,
     "metadata": {},
     "output_type": "execute_result"
    }
   ],
   "source": [
    "response.choices[0].message.content"
   ]
  },
  {
   "cell_type": "code",
   "execution_count": null,
   "id": "31a7c003-0ead-4fa9-9902-a03cb376d3d4",
   "metadata": {},
   "outputs": [],
   "source": []
  }
 ],
 "metadata": {
  "kernelspec": {
   "display_name": "Python 3 (ipykernel)",
   "language": "python",
   "name": "python3"
  },
  "language_info": {
   "codemirror_mode": {
    "name": "ipython",
    "version": 3
   },
   "file_extension": ".py",
   "mimetype": "text/x-python",
   "name": "python",
   "nbconvert_exporter": "python",
   "pygments_lexer": "ipython3",
   "version": "3.12.1"
  }
 },
 "nbformat": 4,
 "nbformat_minor": 5
}

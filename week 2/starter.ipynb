{
 "cells": [
  {
   "cell_type": "code",
   "execution_count": 1,
   "id": "506fab2a-a50c-42bd-a106-c83a9d2828ea",
   "metadata": {},
   "outputs": [
    {
     "name": "stdout",
     "output_type": "stream",
     "text": [
      "--2024-09-30 06:09:43--  https://raw.githubusercontent.com/alexeygrigorev/minsearch/main/minsearch.py\n",
      "Resolving raw.githubusercontent.com (raw.githubusercontent.com)... 185.199.109.133, 185.199.111.133, 185.199.110.133, ...\n",
      "Connecting to raw.githubusercontent.com (raw.githubusercontent.com)|185.199.109.133|:443... connected.\n",
      "HTTP request sent, awaiting response... 200 OK\n",
      "Length: 3832 (3.7K) [text/plain]\n",
      "Saving to: ‘minsearch.py’\n",
      "\n",
      "minsearch.py        100%[===================>]   3.74K  --.-KB/s    in 0s      \n",
      "\n",
      "2024-09-30 06:09:44 (48.1 MB/s) - ‘minsearch.py’ saved [3832/3832]\n",
      "\n"
     ]
    }
   ],
   "source": [
    "!rm -f minsearch.py\n",
    "!wget https://raw.githubusercontent.com/alexeygrigorev/minsearch/main/minsearch.py"
   ]
  },
  {
   "cell_type": "code",
   "execution_count": 2,
   "id": "3ac947de-effd-4b61-8792-a6d7a133f347",
   "metadata": {},
   "outputs": [
    {
     "data": {
      "text/plain": [
       "<minsearch.Index at 0x790f0efdf1d0>"
      ]
     },
     "execution_count": 2,
     "metadata": {},
     "output_type": "execute_result"
    }
   ],
   "source": [
    "import requests \n",
    "import minsearch\n",
    "\n",
    "docs_url = 'https://github.com/DataTalksClub/llm-zoomcamp/blob/main/01-intro/documents.json?raw=1'\n",
    "docs_response = requests.get(docs_url)\n",
    "documents_raw = docs_response.json()\n",
    "\n",
    "documents = []\n",
    "\n",
    "for course in documents_raw:\n",
    "    course_name = course['course']\n",
    "\n",
    "    for doc in course['documents']:\n",
    "        doc['course'] = course_name\n",
    "        documents.append(doc)\n",
    "\n",
    "index = minsearch.Index(\n",
    "    text_fields=[\"question\", \"text\", \"section\"],\n",
    "    keyword_fields=[\"course\"]\n",
    ")\n",
    "\n",
    "index.fit(documents)"
   ]
  },
  {
   "cell_type": "code",
   "execution_count": 3,
   "id": "8f087272-b44d-4738-9ea2-175ec63a058b",
   "metadata": {},
   "outputs": [],
   "source": [
    "def search(query):\n",
    "    boost = {'question': 3.0, 'section': 0.5}\n",
    "\n",
    "    results = index.search(\n",
    "        query=query,\n",
    "        filter_dict={'course': 'data-engineering-zoomcamp'},\n",
    "        boost_dict=boost,\n",
    "        num_results=5\n",
    "    )\n",
    "\n",
    "    return results"
   ]
  },
  {
   "cell_type": "code",
   "execution_count": 4,
   "id": "742ab881-499a-4675-83c4-2013ea1377b9",
   "metadata": {},
   "outputs": [],
   "source": [
    "def build_prompt(query, search_results):\n",
    "    prompt_template = \"\"\"\n",
    "You're a course teaching assistant. Answer the QUESTION based on the CONTEXT from the FAQ database.\n",
    "Use only the facts from the CONTEXT when answering the QUESTION.\n",
    "\n",
    "QUESTION: {question}\n",
    "\n",
    "CONTEXT: \n",
    "{context}\n",
    "\"\"\".strip()\n",
    "\n",
    "    context = \"\"\n",
    "    \n",
    "    for doc in search_results:\n",
    "        context = context + f\"section: {doc['section']}\\nquestion: {doc['question']}\\nanswer: {doc['text']}\\n\\n\"\n",
    "    \n",
    "    prompt = prompt_template.format(question=query, context=context).strip()\n",
    "    return prompt\n",
    "\n",
    "def llm(prompt):\n",
    "    response = client.chat.completions.create(\n",
    "        model='phi3',\n",
    "        messages=[{\"role\": \"user\", \"content\": prompt}]\n",
    "    )\n",
    "    \n",
    "    return response.choices[0].message.content"
   ]
  },
  {
   "cell_type": "code",
   "execution_count": 5,
   "id": "fe8bff3e-b672-42be-866b-f2d9bb217106",
   "metadata": {},
   "outputs": [],
   "source": [
    "def rag(query):\n",
    "    search_results = search(query)\n",
    "    prompt = build_prompt(query, search_results)\n",
    "    answer = llm(prompt)\n",
    "    return answer"
   ]
  },
  {
   "cell_type": "code",
   "execution_count": 6,
   "id": "988ece59-951a-4b32-ba3f-cb8efb66a9bb",
   "metadata": {},
   "outputs": [],
   "source": [
    "from openai import OpenAI\n",
    "\n",
    "client = OpenAI(\n",
    "    base_url='http://localhost:11434/v1/',\n",
    "    api_key='ollama',\n",
    ")"
   ]
  },
  {
   "cell_type": "code",
   "execution_count": 7,
   "id": "3e83df3d-2e9b-4bc6-819e-d26af11d0d43",
   "metadata": {},
   "outputs": [
    {
     "data": {
      "text/plain": [
       "'Based on my sources\\' information: yes, you are still eligible as long as you submit assignments before they reach their deadline and can continue after course completion with materials available online (Google Calendar link mentioned in an older news segment). Despite this flexibility for submissions within the courses, homework must be submitted punctually because late ones won\\'t usually have any support. So ideally register as soon as you decide to enroll! This enables timely participation and ensures smooth learning experience without stress related submission deadlines looming over your head just before course closure or other pressing commitments. Remember about joining Telegram channel for relevant announcements too – it’s key for latest updates directly impacting our study schedule or any unforeseen modifications made by instructors! Lastly but equally important, ensure active contribution in discussions during designated \"Office Hours\" through this public Google Event Calendar subscription (which works on Desktop). It\\'s one way to stay abreast of course status and timely adjustments if needed; plus some face-time interacting may bring better understanding towards complex topics - so don’t skip out right away! As future plans unfold beyond current syllabus requirements such as preparations for next cohort or commencement work on capstone projects, these activities will seamlessly integrate into continuance education strategies allowing learners like yourself maintain pace comfortably while engaging with course content effectively until culmination point (course end).\\n\\nRegarding the possibility of utilizing \"X\" tool instead that\\'s provided alternate pathways within chosen data stack setup; however, choosing a separate implementation approach must come forward explained contextually when assessing capstone presentations—it plays role towards comprehensive understanding along backward compatibility checks necessary between original intent yet desired distinct methodologies leveraged herein discussed. Given multiple platforms can sometimes lead intricascies often encountered during peer evaluation phases necessities thus further underscores essential dialogues warrant attention within group setting ensuring transparent explorations amid multitudes diversely applied tech stack scenarios potentially emerging alongside discourse-based learnings interweaving experiences collectively shared across community platform such as Slack channel joining. Thus maintaining balance between personal preferences aligns well established foundational teaching philosophies incorporated course\\'s original objectives fostering collaborative environment conducive towards learning growth while cultivating creative problem solving techniques essential for tackling modern industry related challenges effectively post completion milestone markers ultimately enhancing professional qualifications achieved through applied knowledge transferrable skills directly impacting employability statistics thereby serving dual purpose visually reinforced pathways pursuing educational advancement alongside career trajectories parallelly developed therewith interdependent relationship reciprocally nurturing overall intellectual development process within broader societal context where lifelong learning journeys often initiated early academic environments seamlessly progress into personalized study engagements continuously refined over time.'"
      ]
     },
     "execution_count": 7,
     "metadata": {},
     "output_type": "execute_result"
    }
   ],
   "source": [
    "rag('i just discover the course is it too late to join?')"
   ]
  },
  {
   "cell_type": "code",
   "execution_count": null,
   "id": "857f717e-cad7-4581-9377-4a1a4b5e49ab",
   "metadata": {},
   "outputs": [],
   "source": []
  }
 ],
 "metadata": {
  "kernelspec": {
   "display_name": "Python 3 (ipykernel)",
   "language": "python",
   "name": "python3"
  },
  "language_info": {
   "codemirror_mode": {
    "name": "ipython",
    "version": 3
   },
   "file_extension": ".py",
   "mimetype": "text/x-python",
   "name": "python",
   "nbconvert_exporter": "python",
   "pygments_lexer": "ipython3",
   "version": "3.12.1"
  }
 },
 "nbformat": 4,
 "nbformat_minor": 5
}
